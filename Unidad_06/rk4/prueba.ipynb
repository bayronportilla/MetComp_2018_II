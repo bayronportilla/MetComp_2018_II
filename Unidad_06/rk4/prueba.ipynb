{
 "cells": [
  {
   "cell_type": "code",
   "execution_count": 23,
   "metadata": {
    "collapsed": true
   },
   "outputs": [],
   "source": [
    "import numpy as np"
   ]
  },
  {
   "cell_type": "code",
   "execution_count": 24,
   "metadata": {
    "collapsed": false
   },
   "outputs": [
    {
     "name": "stdout",
     "output_type": "stream",
     "text": [
      "[0.0, 0.2, 0.4, 0.6000000000000001, 0.8, 1.0, 1.2000000000000002, 1.4000000000000001, 1.6, 1.8, 2.0]\n",
      "0.2\n"
     ]
    }
   ],
   "source": [
    "#Condicion inicial \n",
    "y0=0.5\n",
    "\n",
    "#Rango de la solución\n",
    "t_ini=0\n",
    "t_end=2\n",
    "\n",
    "\n",
    "#Número de puntos en los que se encontrará la solución numérica\n",
    "N=10\n",
    "\n",
    "#Tamaño de paso\n",
    "h=(t_end-t_ini)/N\n",
    "\n",
    "#Función de fuerza\n",
    "def func(t,y):\n",
    "    value=y-t**2+1\n",
    "    return value\n",
    "\n",
    "#Construyendo vector de tiempo\n",
    "t_array=[]\n",
    "for i in range(0,N+1):\n",
    "    ti=t_ini+i*h\n",
    "    t_array.append(ti)\n",
    "    \n",
    "print(t_array)\n",
    "print(h)"
   ]
  },
  {
   "cell_type": "code",
   "execution_count": 25,
   "metadata": {
    "collapsed": true
   },
   "outputs": [],
   "source": [
    "def rk4(func,t_prev,y_prev):\n",
    "    k1=func(t_prev,y_prev)\n",
    "    k2=func(t_prev+0.5*h , y_prev+0.5*h*k1)\n",
    "    k3=func(t_prev+0.5*h , y_prev+0.5*h*k2)\n",
    "    k4=func(t_prev+h , y_prev+h*k3)\n",
    "    \n",
    "    y_next=y_prev+h/6*(k1+2*k2+2*k3+k4)\n",
    "    \n",
    "    return y_next\n",
    "    "
   ]
  },
  {
   "cell_type": "code",
   "execution_count": 29,
   "metadata": {
    "collapsed": false
   },
   "outputs": [
    {
     "name": "stdout",
     "output_type": "stream",
     "text": [
      "[[0.         0.5       ]\n",
      " [0.2        0.82929333]\n",
      " [0.4        1.21407621]\n",
      " [0.6        1.64892202]\n",
      " [0.8        2.12720268]\n",
      " [1.         2.64082269]\n",
      " [1.2        3.17989417]\n",
      " [1.4        3.73234007]\n",
      " [1.6        4.2834095 ]\n",
      " [1.8        4.81508569]\n",
      " [2.         5.305363  ]]\n"
     ]
    }
   ],
   "source": [
    "#Solución\n",
    "sol=np.zeros((N+1,2))\n",
    "sol[0][0]=t_array[0]\n",
    "sol[0][1]=y0\n",
    "for i in range(1,N+1):\n",
    "    sol[i][0]=t_array[i]\n",
    "    sol[i][1]=rk4(func,sol[i-1][0],sol[i-1][1])\n",
    "\n",
    "print(sol)\n"
   ]
  },
  {
   "cell_type": "code",
   "execution_count": null,
   "metadata": {
    "collapsed": true
   },
   "outputs": [],
   "source": []
  },
  {
   "cell_type": "code",
   "execution_count": null,
   "metadata": {
    "collapsed": true
   },
   "outputs": [],
   "source": []
  }
 ],
 "metadata": {
  "kernelspec": {
   "display_name": "Python 3",
   "language": "python",
   "name": "python3"
  },
  "language_info": {
   "codemirror_mode": {
    "name": "ipython",
    "version": 3
   },
   "file_extension": ".py",
   "mimetype": "text/x-python",
   "name": "python",
   "nbconvert_exporter": "python",
   "pygments_lexer": "ipython3",
   "version": "3.6.0"
  }
 },
 "nbformat": 4,
 "nbformat_minor": 2
}
