{
 "cells": [
  {
   "cell_type": "code",
   "execution_count": 224,
   "metadata": {
    "collapsed": true
   },
   "outputs": [],
   "source": [
    "import numpy as np\n",
    "import matplotlib.pyplot as plt\n",
    "from scipy.integrate import odeint"
   ]
  },
  {
   "cell_type": "code",
   "execution_count": 279,
   "metadata": {
    "collapsed": false
   },
   "outputs": [],
   "source": [
    "#Parámetros de integración\n",
    "\n",
    "#Condiciones inciales\n",
    "y0=np.array([1,0]) \n",
    "\n",
    "#Tiempo inicial, final y tamaño de paso\n",
    "t_ini=0\n",
    "t_end=10000\n",
    "h=0.1\n",
    "\n",
    "#Vector de tiempo\n",
    "time=[]\n",
    "for i in np.arange(t_ini,t_end,h):\n",
    "    time.append(i)\n",
    "time=np.array(time)\n",
    "\n",
    "#Función de fuerza\n",
    "def func(t,y):\n",
    "    x=y[0]\n",
    "    vx=y[1]\n",
    "    return np.array([vx,-x])"
   ]
  },
  {
   "cell_type": "markdown",
   "metadata": {},
   "source": [
    "# Euler"
   ]
  },
  {
   "cell_type": "code",
   "execution_count": 280,
   "metadata": {
    "collapsed": true
   },
   "outputs": [],
   "source": [
    "#Rutina principal\n",
    "def euler(func,t,y):\n",
    "    x=y[0]\n",
    "    vx=y[1]\n",
    "    y_actual=np.zeros(len(y))\n",
    "    for i in range(0,len(y)):\n",
    "        value=y[i]+h*func(t,y)[i]\n",
    "        y_actual[i]=value\n",
    "        \n",
    "    return y_actual\n"
   ]
  },
  {
   "cell_type": "code",
   "execution_count": 281,
   "metadata": {
    "collapsed": false
   },
   "outputs": [],
   "source": [
    "#Solución Euler\n",
    "sol_euler=np.zeros((len(time),2)) \n",
    "sol_euler[0][0]=y0[0]\n",
    "sol_euler[0][1]=y0[1]\n",
    "\n",
    "for i in range(1,len(time)): #La condición inicial no se involucra\n",
    "    sol_euler[i][0]=euler(func,time[i-1],sol_euler[i-1])[0]\n",
    "    sol_euler[i][1]=euler(func,time[i-1],sol_euler[i-1])[1]\n",
    "    \n",
    "#print(sol_euler)"
   ]
  },
  {
   "cell_type": "markdown",
   "metadata": {},
   "source": [
    "# Runge-Kutta 4"
   ]
  },
  {
   "cell_type": "code",
   "execution_count": 282,
   "metadata": {
    "collapsed": false
   },
   "outputs": [],
   "source": [
    "#Rutina principal\n",
    "def rk4(func,t,y):\n",
    "    #Notar que dada k es un vector de 2 entradas\n",
    "    k1=func(t,y)\n",
    "    k2=func(t+0.5*h , y+0.5*h*k1)\n",
    "    k3=func(t+0.5*h , y+0.5*h*k2)\n",
    "    k4=func(t+h,y+h*k3)\n",
    "    \n",
    "    y_actual=np.zeros(len(y))\n",
    "    for i in range(0,len(y)):\n",
    "        #Calcula cada elemento del vector de estado en el tiempo t+h\n",
    "        value=y[i]+h/6*(k1[i]+2*k2[i]+2*k3[i]+k4[i])\n",
    "        y_actual[i]=value\n",
    "        \n",
    "    return y_actual #El retorno es el vector y=y(t+h)"
   ]
  },
  {
   "cell_type": "code",
   "execution_count": 283,
   "metadata": {
    "collapsed": false
   },
   "outputs": [],
   "source": [
    "#Solución rk4\n",
    "sol_rk4=np.zeros((len(time),2)) \n",
    "sol_rk4[0][0]=y0[0]\n",
    "sol_rk4[0][1]=y0[1]\n",
    "\n",
    "for i in range(1,len(time)): #La condición inicial no se involucra\n",
    "    sol_rk4[i][0]=rk4_vec(func,time[i-1],sol_rk4[i-1])[0]\n",
    "    sol_rk4[i][1]=rk4_vec(func,time[i-1],sol_rk4[i-1])[1]\n",
    "    \n",
    "#print(sol_rk4)"
   ]
  },
  {
   "cell_type": "markdown",
   "metadata": {},
   "source": [
    "# Graficación"
   ]
  },
  {
   "cell_type": "code",
   "execution_count": 284,
   "metadata": {
    "collapsed": false
   },
   "outputs": [
    {
     "data": {
      "image/png": "[encoded data removed]",
      "text/plain": [
       "<Figure size 432x288 with 1 Axes>"
      ]
     },
     "metadata": {},
     "output_type": "display_data"
    }
   ],
   "source": [
    "\n",
    "fig=plt.figure()\n",
    "ax=plt.axes()\n",
    "ax=plt.plot(t_array,x_t(t_array),'.',label='analytical')\n",
    "ax=plt.plot(time,sol_rk4[:,0:1],'*',label='numerical my rk4')\n",
    "ax=plt.plot(time,sol_euler[:,0:1],'-',label='numerical my euler')\n"
   ]
  },
  {
   "cell_type": "markdown",
   "metadata": {},
   "source": [
    "# Calculando cantidades conservadas"
   ]
  },
  {
   "cell_type": "markdown",
   "metadata": {},
   "source": [
    "$$E=\\frac{1}{2}(v_x^2+x^2)$$"
   ]
  },
  {
   "cell_type": "code",
   "execution_count": 285,
   "metadata": {
    "collapsed": false
   },
   "outputs": [
    {
     "name": "stderr",
     "output_type": "stream",
     "text": [
      "/Library/Frameworks/Python.framework/Versions/3.6/lib/python3.6/site-packages/ipykernel_launcher.py:5: RuntimeWarning: overflow encountered in double_scalars\n",
      "  \"\"\"\n",
      "/Library/Frameworks/Python.framework/Versions/3.6/lib/python3.6/site-packages/matplotlib/axes/_base.py:2508: RuntimeWarning: overflow encountered in double_scalars\n",
      "  x1t += delta\n"
     ]
    },
    {
     "data": {
      "text/plain": [
       "Text(0.5,0,'time')"
      ]
     },
     "execution_count": 285,
     "metadata": {},
     "output_type": "execute_result"
    },
    {
     "data": {
      "image/png": "[encoded data removed]",
      "text/plain": [
       "<Figure size 432x288 with 1 Axes>"
      ]
     },
     "metadata": {},
     "output_type": "display_data"
    }
   ],
   "source": [
    "def Delta_energy(y):\n",
    "    Eini=0.5*((y[0][1]**2+y[0][0]**2))\n",
    "    value=np.zeros(y.shape[0])\n",
    "    for i in range(0,y.shape[0]):\n",
    "        E=0.5*(y[i][1]**2+y[i][0]**2)\n",
    "        value[i]=abs(E-Eini)/Eini\n",
    "    return value\n",
    "\n",
    "fig=plt.figure()\n",
    "ax=plt.axes()\n",
    "ax.plot(time,Delta_energy(sol_rk4))\n",
    "ax.plot(time,Delta_energy(sol_euler))\n",
    "ax.set_ylabel(\"|E0-E|/E0\")\n",
    "ax.set_xlabel(\"time\")\n"
   ]
  },
  {
   "cell_type": "markdown",
   "metadata": {},
   "source": [
    "# Leapfrog"
   ]
  },
  {
   "cell_type": "code",
   "execution_count": 286,
   "metadata": {
    "collapsed": true
   },
   "outputs": [],
   "source": [
    "#Define función F(x)\n",
    "def F(x):\n",
    "    value=-x\n",
    "    return value\n",
    "\n",
    "#Rutina principal\n",
    "def leapfrog(F,t,y):\n",
    "    x=y[0]\n",
    "    v=y[1]\n",
    "    v_half=v+0.5*h*F(x)\n",
    "    x_next=x+h*v_half\n",
    "    v_next=v_half+0.5*h*F(x_next)\n",
    "    return np.array([x_next,v_next])\n",
    "    \n",
    "    "
   ]
  },
  {
   "cell_type": "code",
   "execution_count": 287,
   "metadata": {
    "collapsed": false
   },
   "outputs": [],
   "source": [
    "#Solución leapfrog\n",
    "sol_leapfrog=np.zeros((len(time),2)) \n",
    "sol_leapfrog[0][0]=y0[0]\n",
    "sol_leapfrog[0][1]=y0[1]\n",
    "\n",
    "for i in range(1,len(time)): #La condición inicial no se involucra\n",
    "    sol_leapfrog[i][0]=leapfrog(F,time[i-1],sol_leapfrog[i-1])[0]\n",
    "    sol_leapfrog[i][1]=leapfrog(F,time[i-1],sol_leapfrog[i-1])[1]\n",
    "    \n",
    "#print(sol_leapfrog)"
   ]
  },
  {
   "cell_type": "markdown",
   "metadata": {},
   "source": [
    "# Graficación"
   ]
  },
  {
   "cell_type": "code",
   "execution_count": 288,
   "metadata": {
    "collapsed": false
   },
   "outputs": [
    {
     "data": {
      "text/plain": [
       "[<matplotlib.lines.Line2D at 0x10b934f98>]"
      ]
     },
     "execution_count": 288,
     "metadata": {},
     "output_type": "execute_result"
    },
    {
     "data": {
      "image/png": "[encoded data removed]",
      "text/plain": [
       "<Figure size 432x288 with 1 Axes>"
      ]
     },
     "metadata": {},
     "output_type": "display_data"
    }
   ],
   "source": [
    "fig=plt.figure()\n",
    "ax=plt.axes()\n",
    "ax.plot(time,sol_leapfrog[:,0:1])"
   ]
  },
  {
   "cell_type": "markdown",
   "metadata": {},
   "source": [
    "# Calculando cantidades conservadas"
   ]
  },
  {
   "cell_type": "code",
   "execution_count": 292,
   "metadata": {
    "collapsed": false
   },
   "outputs": [
    {
     "data": {
      "text/plain": [
       "<matplotlib.legend.Legend at 0x10e77bcf8>"
      ]
     },
     "execution_count": 292,
     "metadata": {},
     "output_type": "execute_result"
    },
    {
     "data": {
      "image/png": "[encoded data removed]",
      "text/plain": [
       "<Figure size 432x288 with 1 Axes>"
      ]
     },
     "metadata": {},
     "output_type": "display_data"
    }
   ],
   "source": [
    "fig=plt.figure()\n",
    "ax=plt.axes()\n",
    "ax.plot(time,Delta_energy(sol_rk4),label='rk4')\n",
    "#ax.plot(time,Delta_energy(sol_euler))\n",
    "ax.plot(time,Delta_energy(sol_leapfrog),'.')\n",
    "ax.set_ylabel(\"|E0-E|/E0\")\n",
    "ax.set_xlabel(\"time\")\n",
    "ax.legend()"
   ]
  },
  {
   "cell_type": "code",
   "execution_count": null,
   "metadata": {
    "collapsed": true
   },
   "outputs": [],
   "source": []
  }
 ],
 "metadata": {
  "kernelspec": {
   "display_name": "Python 3",
   "language": "python",
   "name": "python3"
  },
  "language_info": {
   "codemirror_mode": {
    "name": "ipython",
    "version": 3
   },
   "file_extension": ".py",
   "mimetype": "text/x-python",
   "name": "python",
   "nbconvert_exporter": "python",
   "pygments_lexer": "ipython3",
   "version": "3.6.0"
  }
 },
 "nbformat": 4,
 "nbformat_minor": 2
}
