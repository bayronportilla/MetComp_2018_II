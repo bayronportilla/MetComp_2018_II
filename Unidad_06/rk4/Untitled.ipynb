{
 "cells": [
  {
   "cell_type": "code",
   "execution_count": 1,
   "metadata": {
    "collapsed": true
   },
   "outputs": [],
   "source": [
    "import numpy as np\n",
    "import matplotlib.pyplot as plt"
   ]
  },
  {
   "cell_type": "code",
   "execution_count": 8,
   "metadata": {
    "collapsed": false
   },
   "outputs": [],
   "source": [
    "#Constantes y definiciones\n",
    "G=6.67e-11\n",
    "M=1.989e30\n",
    "mu=G*M\n",
    "Years=365.25*86400 #Un año en segundos\n",
    "Porb=75*Years\n",
    "\n",
    "#Función de fuerza\n",
    "def func(t,y_vec):\n",
    "    x=y_vec[0]\n",
    "    y=y_vec[1]\n",
    "    vx=y_vec[2]\n",
    "    vy=y_vec[3]\n",
    "    return [vx,vy,-mu*x/(x**2+y**2)**1.5,-mu*y/(x**2+y**2)**1.5]\n",
    "\n",
    "#Vector de condiciones iniciales\n",
    "y0=[8.806e6,0.0,0.0,54505.3]    \n",
    "\n",
    "#Definiendo tamaño de paso\n",
    "h=Porb/10"
   ]
  },
  {
   "cell_type": "code",
   "execution_count": null,
   "metadata": {
    "collapsed": true
   },
   "outputs": [],
   "source": [
    "def rk4(func,t,y_ini):\n",
    "    x=y\n",
    "    k1=func(t,)\n",
    "    k2=\n",
    "    k3=\n",
    "    k4=\n",
    "    y_next=y_prev+h/6*(k1+2*k2+2*k3+k4)"
   ]
  }
 ],
 "metadata": {
  "kernelspec": {
   "display_name": "Python 3",
   "language": "python",
   "name": "python3"
  },
  "language_info": {
   "codemirror_mode": {
    "name": "ipython",
    "version": 3
   },
   "file_extension": ".py",
   "mimetype": "text/x-python",
   "name": "python",
   "nbconvert_exporter": "python",
   "pygments_lexer": "ipython3",
   "version": "3.6.0"
  }
 },
 "nbformat": 4,
 "nbformat_minor": 2
}
