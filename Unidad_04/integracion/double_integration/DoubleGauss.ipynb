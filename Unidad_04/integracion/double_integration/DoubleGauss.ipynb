{
 "cells": [
  {
   "cell_type": "code",
   "execution_count": 101,
   "metadata": {
    "collapsed": true
   },
   "outputs": [],
   "source": [
    "#Importando librerías\n",
    "import numpy as np\n",
    "import matplotlib.pyplot as plt"
   ]
  },
  {
   "cell_type": "code",
   "execution_count": 102,
   "metadata": {
    "collapsed": false
   },
   "outputs": [
    {
     "name": "stdout",
     "output_type": "stream",
     "text": [
      "[[ 2.          0.57735027  1.        ]\n",
      " [ 2.         -0.57735027  1.        ]\n",
      " [ 3.          0.77459667  0.55555556]\n",
      " [ 3.          0.          0.88888889]\n",
      " [ 3.         -0.77459667  0.55555556]\n",
      " [ 4.          0.86113631  0.34785485]\n",
      " [ 4.          0.33998104  0.65214515]\n",
      " [ 4.         -0.33998104  0.65214515]\n",
      " [ 4.         -0.86113631  0.34785485]\n",
      " [ 5.          0.90617985  0.23692689]\n",
      " [ 5.          0.53846931  0.47862867]\n",
      " [ 5.          0.          0.56888889]\n",
      " [ 5.         -0.53846931  0.47862867]\n",
      " [ 5.         -0.90617985  0.23692689]]\n"
     ]
    }
   ],
   "source": [
    "#Cargando coeficientes\n",
    "coeff=np.loadtxt('coeff.dat')\n",
    "print(coeff)"
   ]
  },
  {
   "cell_type": "code",
   "execution_count": 111,
   "metadata": {
    "collapsed": true
   },
   "outputs": [],
   "source": [
    "#Función a integrar\n",
    "def f(x,y):\n",
    "    #value=np.exp(y/x)\n",
    "    #value=1.0\n",
    "    value=4-x**2/9.-y**2/16.\n",
    "    return value\n",
    "\n",
    "#Limite inferior y superior de la integral interna\n",
    "def c(x):\n",
    "    #value=x**3\n",
    "    #value=x**2\n",
    "    value=0\n",
    "    return value\n",
    "\n",
    "def d(x):\n",
    "    #value=x**2\n",
    "    #value=4*x-x**2\n",
    "    value=2\n",
    "    return value\n",
    "\n",
    "#Limite inferior y superior de la integral externa\n",
    "a=0\n",
    "b=3"
   ]
  },
  {
   "cell_type": "code",
   "execution_count": 112,
   "metadata": {
    "collapsed": true
   },
   "outputs": [],
   "source": [
    "#Inicia integración\n",
    "def DoubleGauss(n,m):\n",
    "    #Creando listas de pesos y raices\n",
    "    u_i_list=[]\n",
    "    w_i_list=[]\n",
    "    t_j_list=[]\n",
    "    w_j_list=[]\n",
    "    for i in range(0,coeff.shape[0]):\n",
    "        if coeff[i][0]==n:\n",
    "            u_i_list.append(coeff[i][1])\n",
    "            w_i_list.append(coeff[i][2])            \n",
    "    for j in range(0,coeff.shape[0]):\n",
    "        if coeff[j][0]==m:\n",
    "            t_j_list.append(coeff[j][1])\n",
    "            w_j_list.append(coeff[j][2])\n",
    "\n",
    "    sum_i=0\n",
    "    for i in range(0,n):\n",
    "        sum_j=0\n",
    "        x_i=((b-a)*u_i_list[i]+a+b)*0.5\n",
    "        for j in range(0,m):\n",
    "            y_j=((d(x_i)-c(x_i))*t_j_list[j]+d(x_i)+c(x_i))*0.5\n",
    "            sum_j+=w_j_list[j]*f(x_i,y_j)\n",
    "        sum_i+=w_i_list[i]*(d(x_i)-c(x_i))*sum_j\n",
    "        \n",
    "    value=sum_i*(b-a)*0.25\n",
    "    \n",
    "    return value\n",
    "     "
   ]
  },
  {
   "cell_type": "code",
   "execution_count": 114,
   "metadata": {
    "collapsed": false
   },
   "outputs": [
    {
     "name": "stdout",
     "output_type": "stream",
     "text": [
      "21.499999997941543\n"
     ]
    }
   ],
   "source": [
    "print(DoubleGauss(5,5))"
   ]
  },
  {
   "cell_type": "code",
   "execution_count": null,
   "metadata": {
    "collapsed": true
   },
   "outputs": [],
   "source": []
  },
  {
   "cell_type": "code",
   "execution_count": null,
   "metadata": {
    "collapsed": true
   },
   "outputs": [],
   "source": []
  }
 ],
 "metadata": {
  "kernelspec": {
   "display_name": "Python 3",
   "language": "python",
   "name": "python3"
  },
  "language_info": {
   "codemirror_mode": {
    "name": "ipython",
    "version": 3
   },
   "file_extension": ".py",
   "mimetype": "text/x-python",
   "name": "python",
   "nbconvert_exporter": "python",
   "pygments_lexer": "ipython3",
   "version": "3.6.0"
  }
 },
 "nbformat": 4,
 "nbformat_minor": 2
}
