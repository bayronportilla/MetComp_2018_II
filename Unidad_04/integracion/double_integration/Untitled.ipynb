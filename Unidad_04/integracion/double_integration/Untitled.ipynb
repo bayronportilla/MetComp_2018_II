{
 "cells": [
  {
   "cell_type": "code",
   "execution_count": 93,
   "metadata": {
    "collapsed": true
   },
   "outputs": [],
   "source": [
    "#Importando librerías\n",
    "import numpy as np\n",
    "import matplotlib.pyplot as plt"
   ]
  },
  {
   "cell_type": "code",
   "execution_count": 126,
   "metadata": {
    "collapsed": true
   },
   "outputs": [],
   "source": [
    "#Función a integrar\n",
    "def f(x,y):\n",
    "    #value=np.exp(y/x)\n",
    "    #value=x+3\n",
    "    #value=1.0\n",
    "    #value=np.sin(4*x-y)\n",
    "    #value=x*y**3\n",
    "    #value=1.0\n",
    "    value=np.sin(y)\n",
    "    return value\n",
    "\n",
    "#Las funciones c y d son los límites de la integral interna \n",
    "def c(x):\n",
    "    #value=x**3\n",
    "    #value=x**2\n",
    "    #value=x**2\n",
    "    #value=0\n",
    "    #value=0\n",
    "    #value=2\n",
    "    value=0\n",
    "    return value\n",
    "\n",
    "def d(x):\n",
    "    #value=x**2\n",
    "    #value=x\n",
    "    #value=4*x-x**2\n",
    "    #value=x\n",
    "    #value=2*x\n",
    "    #value=6\n",
    "    value=x\n",
    "    return value\n",
    "\n",
    "def k(x,m):\n",
    "    value=(d(x)-c(x))/m\n",
    "    return value"
   ]
  },
  {
   "cell_type": "code",
   "execution_count": 130,
   "metadata": {
    "collapsed": true
   },
   "outputs": [],
   "source": [
    "def Int2D(a,b,n,m):\n",
    "    \n",
    "    h=(b-a)/n\n",
    "    \n",
    "    #Declaramos vectores de nodos para x y matriz de nodos para y, ambos inicialidos en ceros\n",
    "    x_node=np.zeros(n+1)\n",
    "    y_node=np.zeros((n+1,m+1))\n",
    "    \n",
    "    #Llenamos los vectores de nodos para x\n",
    "    for i in range(0,n+1):\n",
    "        x_node[i]=a+i*h\n",
    "    \n",
    "    #Llenamos la matriz de nodos para y\n",
    "    for i in range(0,n+1):\n",
    "        for j in range(0,m+1):\n",
    "            y_node[i][j]=c(x_node[i])+j*k(x_node[i],m)\n",
    "            \n",
    "    #Inicia integración término a término\n",
    "    #Cálculo de T1\n",
    "    T1=h/9.*(k(a,m)*(f(a,c(a))+f(a,d(a))) + k(b,m)*(f(b,c(b))+f(b,d(b))))\n",
    "    \n",
    "    #Cálculo de T2\n",
    "    sum_T2_ext=0\n",
    "    #sum_T2_int_1=0\n",
    "    #sum_T2_int_2=0\n",
    "    for i in range(1,int(n/2)):\n",
    "        sum_T2_int_1=0\n",
    "        for j in range(1,int(m/2)):\n",
    "            sum_T2_int_1+=k(x_node[2*i],m)*f(x_node[2*i],y_node[i][2*j])\n",
    "        \n",
    "        sum_T2_int_2=0\n",
    "        for j in range(1,int(m/2)+1):\n",
    "            sum_T2_int_2+=k(x_node[2*i],m)*f(x_node[2*i],y_node[i][2*j-1])\n",
    "        \n",
    "        sum_T2_ext+=k(x_node[2*i],m)*(f(x_node[2*i],c(x_node[2*i]))+f(x_node[2*i],d(x_node[2*i])))+2*sum_T2_int_1+4*sum_T2_int_2\n",
    "    T2=2*h/9*sum_T2_ext\n",
    "    \n",
    "    #Cálculo de T3\n",
    "    sum_T3_ext=0\n",
    "    #sum_T3_int_1=0\n",
    "    #sum_T3_int_2=0\n",
    "    for i in range(1,int(n/2)+1):\n",
    "        sum_T3_int_1=0\n",
    "        for j in range(1,int(m/2)):\n",
    "            sum_T3_int_1+=k(x_node[2*i-1],m)*f(x_node[2*i-1],y_node[i][2*j])\n",
    "        \n",
    "        sum_T3_int_2=0\n",
    "        for j in range(1,int(m/2)+1):\n",
    "            sum_T3_int_2+=k(x_node[2*i-1],m)*f(x_node[2*i-1],y_node[i][2*j-1])\n",
    "        \n",
    "        sum_T3_ext+=k(x_node[2*i-1],m)*(f(x_node[2*i-1],c(x_node[2*i-1]))+f(x_node[2*i-1],d(x_node[2*i-1])))+2*sum_T3_int_1+4*sum_T3_int_2\n",
    "    T3=4*h/9*sum_T3_ext\n",
    "    \n",
    "    #Cálculo de T4\n",
    "    sum_T4=0\n",
    "    for j in range(1,int(m/2)):\n",
    "        sum_T4+=k(a,m)*f(a,y_node[0][2*j]) + k(b,m)*f(b,y_node[n][2*j])\n",
    "    T4=2*h/9*sum_T4\n",
    "    \n",
    "    #Cálculo de T5\n",
    "    sum_T5=0\n",
    "    for j in range(1,int(m/2)+1):\n",
    "        sum_T5+=k(a,m)*f(a,y_node[0][2*j-1]) + k(b,m)*f(b,y_node[n][2*j-1])\n",
    "    T5=4*h/9*sum_T5\n",
    "    \n",
    "    \n",
    "    \n",
    "            \n",
    "        \n",
    "        \n",
    "        \n",
    "        \n",
    "    \n",
    "    \n",
    "    \n",
    "    #return T1+T3+T2+T4+T5\n",
    "    return y_node\n",
    "    #return T4"
   ]
  },
  {
   "cell_type": "code",
   "execution_count": 131,
   "metadata": {
    "collapsed": false
   },
   "outputs": [
    {
     "name": "stdout",
     "output_type": "stream",
     "text": [
      "[[0.         0.         0.         0.         0.         0.\n",
      "  0.         0.         0.         0.         0.        ]\n",
      " [0.         0.03141593 0.06283185 0.09424778 0.12566371 0.15707963\n",
      "  0.18849556 0.21991149 0.25132741 0.28274334 0.31415927]\n",
      " [0.         0.06283185 0.12566371 0.18849556 0.25132741 0.31415927\n",
      "  0.37699112 0.43982297 0.50265482 0.56548668 0.62831853]\n",
      " [0.         0.09424778 0.18849556 0.28274334 0.37699112 0.4712389\n",
      "  0.56548668 0.65973446 0.75398224 0.84823002 0.9424778 ]\n",
      " [0.         0.12566371 0.25132741 0.37699112 0.50265482 0.62831853\n",
      "  0.75398224 0.87964594 1.00530965 1.13097336 1.25663706]\n",
      " [0.         0.15707963 0.31415927 0.4712389  0.62831853 0.78539816\n",
      "  0.9424778  1.09955743 1.25663706 1.41371669 1.57079633]\n",
      " [0.         0.18849556 0.37699112 0.56548668 0.75398224 0.9424778\n",
      "  1.13097336 1.31946891 1.50796447 1.69646003 1.88495559]\n",
      " [0.         0.21991149 0.43982297 0.65973446 0.87964594 1.09955743\n",
      "  1.31946891 1.5393804  1.75929189 1.97920337 2.19911486]\n",
      " [0.         0.25132741 0.50265482 0.75398224 1.00530965 1.25663706\n",
      "  1.50796447 1.75929189 2.0106193  2.26194671 2.51327412]\n",
      " [0.         0.28274334 0.56548668 0.84823002 1.13097336 1.41371669\n",
      "  1.69646003 1.97920337 2.26194671 2.54469005 2.82743339]\n",
      " [0.         0.31415927 0.62831853 0.9424778  1.25663706 1.57079633\n",
      "  1.88495559 2.19911486 2.51327412 2.82743339 3.14159265]]\n"
     ]
    }
   ],
   "source": [
    "print(Int2D(0,np.pi,10,10))"
   ]
  },
  {
   "cell_type": "code",
   "execution_count": null,
   "metadata": {
    "collapsed": true
   },
   "outputs": [],
   "source": []
  },
  {
   "cell_type": "code",
   "execution_count": null,
   "metadata": {
    "collapsed": true
   },
   "outputs": [],
   "source": []
  }
 ],
 "metadata": {
  "kernelspec": {
   "display_name": "Python 3",
   "language": "python",
   "name": "python3"
  },
  "language_info": {
   "codemirror_mode": {
    "name": "ipython",
    "version": 3
   },
   "file_extension": ".py",
   "mimetype": "text/x-python",
   "name": "python",
   "nbconvert_exporter": "python",
   "pygments_lexer": "ipython3",
   "version": "3.6.0"
  }
 },
 "nbformat": 4,
 "nbformat_minor": 2
}
