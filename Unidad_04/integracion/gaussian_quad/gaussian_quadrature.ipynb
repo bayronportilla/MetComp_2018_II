{
 "cells": [
  {
   "cell_type": "code",
   "execution_count": 3,
   "metadata": {
    "collapsed": false
   },
   "outputs": [],
   "source": [
    "#importantdo librerías\n",
    "import numpy as np\n",
    "import matplotlib.pyplot as plt"
   ]
  },
  {
   "cell_type": "code",
   "execution_count": 25,
   "metadata": {
    "collapsed": false
   },
   "outputs": [
    {
     "name": "stdout",
     "output_type": "stream",
     "text": [
      "[[ 2.          0.57735027  1.        ]\n",
      " [ 2.         -0.57735027  1.        ]\n",
      " [ 3.          0.77459667  0.55555556]\n",
      " [ 3.          0.          0.88888889]\n",
      " [ 3.         -0.77459667  0.55555556]\n",
      " [ 4.          0.86113631  0.34785485]\n",
      " [ 4.          0.33998104  0.65214515]\n",
      " [ 4.         -0.33998104  0.65214515]\n",
      " [ 4.         -0.86113631  0.34785485]\n",
      " [ 5.          0.90617985  0.23692689]\n",
      " [ 5.          0.53846931  0.47862867]\n",
      " [ 5.          0.          0.56888889]\n",
      " [ 5.         -0.53846931  0.47862867]\n",
      " [ 5.         -0.90617985  0.23692689]]\n"
     ]
    }
   ],
   "source": [
    "#Cargando coeficientes\n",
    "coeff=np.loadtxt('coeff.dat')\n",
    "print(coeff)"
   ]
  },
  {
   "cell_type": "code",
   "execution_count": 55,
   "metadata": {
    "collapsed": false
   },
   "outputs": [],
   "source": [
    "#Creando función \n",
    "\n",
    "def f(x):\n",
    "    value=(np.sin(x)+np.exp(x)*np.sinh(x))**0.5\n",
    "    return value\n",
    "\n",
    "def GaussQuad(a,b,n):\n",
    "    #Crear las listas de pesos y raices asociadas a un n particular\n",
    "    w_list=[]\n",
    "    z_list=[]\n",
    "    for i in range(0,coeff.shape[0]):\n",
    "        if int(coeff[i][0])==n:\n",
    "            z_list.append(coeff[i][1])\n",
    "            w_list.append(coeff[i][2])\n",
    "                \n",
    "    #Aplicamos formula de Cuadratura gaussiana\n",
    "    f_list=[]\n",
    "    sum=0.0\n",
    "    for i in range(0,n):\n",
    "        argument=((b-a)*z_list[i]+a+b)*0.5\n",
    "        sum+=w_list[i]*f(argument)\n",
    "        f_list.append(f(argument))\n",
    "        \n",
    "    value=(b-a)*0.5*sum\n",
    "\n",
    "    return value\n",
    "    \n",
    "        "
   ]
  },
  {
   "cell_type": "code",
   "execution_count": 58,
   "metadata": {
    "collapsed": false
   },
   "outputs": [
    {
     "name": "stdout",
     "output_type": "stream",
     "text": [
      "1.146152252678135\n"
     ]
    }
   ],
   "source": [
    "print(GaussQuad(0,1,5))"
   ]
  },
  {
   "cell_type": "code",
   "execution_count": null,
   "metadata": {
    "collapsed": true
   },
   "outputs": [],
   "source": []
  }
 ],
 "metadata": {
  "kernelspec": {
   "display_name": "Python 3",
   "language": "python",
   "name": "python3"
  },
  "language_info": {
   "codemirror_mode": {
    "name": "ipython",
    "version": 3
   },
   "file_extension": ".py",
   "mimetype": "text/x-python",
   "name": "python",
   "nbconvert_exporter": "python",
   "pygments_lexer": "ipython3",
   "version": "3.6.0"
  }
 },
 "nbformat": 4,
 "nbformat_minor": 2
}
