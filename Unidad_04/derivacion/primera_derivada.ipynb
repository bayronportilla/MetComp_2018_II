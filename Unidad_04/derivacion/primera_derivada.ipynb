{
 "cells": [
  {
   "cell_type": "code",
   "execution_count": 41,
   "metadata": {
    "collapsed": true
   },
   "outputs": [],
   "source": [
    "import numpy as np\n",
    "import matplotlib.pyplot as plt"
   ]
  },
  {
   "cell_type": "code",
   "execution_count": 42,
   "metadata": {
    "collapsed": false
   },
   "outputs": [],
   "source": [
    "x_list = [1.8,1.9,2.0,2.1,2.2]\n",
    "y_list = [10.889365,12.703199,14.778112,17.148957,19.855030]\n",
    "dydx_list = []\n",
    "\n",
    "def dfdx(x_list,y_list):\n",
    "    for i in range(0,len(x_list)):\n",
    "        if i==0:\n",
    "            x0=x_list[i]\n",
    "            y0=y_list[i]\n",
    "            x1=x_list[i+1]\n",
    "            y1=y_list[i+1]\n",
    "            x2=x_list[i+2]\n",
    "            y2=y_list[i+2]\n",
    "            \n",
    "        elif i==len(x_list)-1:\n",
    "            x0=x_list[i]\n",
    "            y0=y_list[i]\n",
    "            x1=x_list[i-1]\n",
    "            y1=y_list[i-1]\n",
    "            x2=x_list[i-2]            \n",
    "            y2=y_list[i-2]\n",
    "            \n",
    "        else:\n",
    "            x0=x_list[i]\n",
    "            y0=y_list[i]\n",
    "            x1=x_list[i-1]\n",
    "            y1=y_list[i-1]\n",
    "            x2=x_list[i+1]            \n",
    "            y2=y_list[i+1]\n",
    " \n",
    "        x = x_list[i]\n",
    "    \n",
    "        dL0dx = (2*x-x1-x2)/((x0-x1)*(x0-x2))\n",
    "        dL1dx = (2*x-x0-x2)/((x1-x0)*(x1-x2))\n",
    "        dL2dx = (2*x-x0-x1)/((x2-x0)*(x2-x1))\n",
    "    \n",
    "        value = dL0dx*y0 + dL1dx*y1 + dL2dx*y2\n",
    "        \n",
    "        dydx_list.append(value)\n",
    "    \n",
    "    return dydx_list\n",
    "    \n",
    "\n",
    "x_array=np.linspace(min(x_list),max(x_list),100)\n",
    "dfdx_array=[]\n",
    "def dfdx_exact(x):\n",
    "    value = np.e**x + x*np.e**x\n",
    "    return value\n",
    "\n",
    "for i in range(0,len(x_array)):\n",
    "    dfdx_array.append(dfdx_exact(x_array[i]))\n",
    "    \n",
    "\n"
   ]
  },
  {
   "cell_type": "code",
   "execution_count": 43,
   "metadata": {
    "collapsed": false
   },
   "outputs": [
    {
     "name": "stdout",
     "output_type": "stream",
     "text": [
      "[16.832945000000095, 19.44373499999999, 22.228789999999982, 25.384589999999974, 28.73687000000001]\n",
      "[16.939012900356246, 17.032133785987604, 17.12573103884469, 17.219806989804226, 17.314363980808256, 17.40940436491556, 17.504930506353304, 17.60094478056886, 17.697449574281933, 17.794447285536897, 17.891940323755357, 17.989931109788994, 18.088422075972588, 18.18741566617735, 18.286914335864438, 18.38692055213878, 18.48743679380307, 18.58846555141207, 18.69000932732714, 18.792070635771, 18.894652002882776, 18.99775596677326, 19.101385077580453, 19.20554189752534, 19.31022900096795, 19.415448974463626, 19.521204416819575, 19.627497939151695, 19.734332164941637, 19.841709730094127, 19.94963328299456, 20.058105484566855, 20.167129008331575, 20.27670654046429, 20.386840779854264, 20.49753443816332, 20.608790239885067, 20.720610922404326, 20.832999236056867, 20.94595794418942, 21.059489823219906, 21.173597662698022, 21.28828426536606, 21.403552447219973, 21.519405037570788, 21.635844879106248, 21.75287482795274, 21.870497753737542, 21.988716539651303, 22.107534082510842, 22.226953292822223, 22.34697709484411, 22.467608426651438, 22.58885024019932, 22.710705501387313, 22.833177190123912, 22.95626830039142, 23.079981840311, 23.20432083220811, 23.329288312678216, 23.454887332652817, 23.581120957465703, 23.70799226691962, 23.83550435535315, 23.963660331707942, 24.09246331959622, 24.221916457368646, 24.35202289818242, 24.482785810069768, 24.614208376006676, 24.74629379398198, 24.879045277066755, 25.012466053483994, 25.146559366678716, 25.28132847538813, 25.41677665371253, 25.5529071911861, 25.689723392848254, 25.82722857931533, 25.96542608685248, 26.104319267445973, 26.243911488875835, 26.384206134788748, 26.525206604771327, 26.666916314423773, 26.809338695433755, 26.952477195650737, 27.096335279160563, 27.240916426360414, 27.38622413403413, 27.53226191542781, 27.679033300325816, 27.826541835127145, 27.974791082921946, 28.12378462356879, 28.27352605377179, 28.4240189871585, 28.575267054357937, 28.727273903078974, 28.880043198189192]\n"
     ]
    }
   ],
   "source": [
    "print(dfdx(x_list,y_list))\n",
    "print(dfdx_array)"
   ]
  },
  {
   "cell_type": "code",
   "execution_count": 46,
   "metadata": {
    "collapsed": false
   },
   "outputs": [
    {
     "data": {
      "text/plain": [
       "[<matplotlib.lines.Line2D at 0x106377550>]"
      ]
     },
     "execution_count": 46,
     "metadata": {},
     "output_type": "execute_result"
    },
    {
     "data": {
      "image/png": "[encoded data removed]",
      "text/plain": [
       "<Figure size 432x288 with 1 Axes>"
      ]
     },
     "metadata": {},
     "output_type": "display_data"
    }
   ],
   "source": [
    "fig=plt.figure(figsize=())\n",
    "ax=plt.axes()\n",
    "ax.plot(x_array,dfdx_array,'-')\n",
    "ax.plot(x_list,dydx_list,'.')\n"
   ]
  },
  {
   "cell_type": "code",
   "execution_count": null,
   "metadata": {
    "collapsed": true
   },
   "outputs": [],
   "source": []
  }
 ],
 "metadata": {
  "kernelspec": {
   "display_name": "Python 3",
   "language": "python",
   "name": "python3"
  },
  "language_info": {
   "codemirror_mode": {
    "name": "ipython",
    "version": 3
   },
   "file_extension": ".py",
   "mimetype": "text/x-python",
   "name": "python",
   "nbconvert_exporter": "python",
   "pygments_lexer": "ipython3",
   "version": "3.6.0"
  }
 },
 "nbformat": 4,
 "nbformat_minor": 2
}
