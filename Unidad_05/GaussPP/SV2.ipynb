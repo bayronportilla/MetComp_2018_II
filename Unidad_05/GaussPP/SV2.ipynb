{
 "cells": [
  {
   "cell_type": "code",
   "execution_count": 202,
   "metadata": {
    "collapsed": true
   },
   "outputs": [],
   "source": [
    "#Importando librerías\n",
    "import numpy as np"
   ]
  },
  {
   "cell_type": "code",
   "execution_count": 244,
   "metadata": {
    "collapsed": false
   },
   "outputs": [],
   "source": [
    "#Matriz de coeficientes\n",
    "A=[[0,1,0],[0,0,1],[2,-5,4]]\n",
    "A=np.array(A)\n",
    "\n",
    "#Vector de términos independientes\n",
    "B=[0,0,0]\n",
    "B=np.array(B)"
   ]
  },
  {
   "cell_type": "code",
   "execution_count": 245,
   "metadata": {
    "collapsed": true
   },
   "outputs": [],
   "source": [
    "#Producto de matrices\n",
    "def mprod(A,B):\n",
    "    nA=A.shape[0]\n",
    "    mA=A.shape[1]\n",
    "    nB=B.shape[0]\n",
    "    mB=B.shape[1]\n",
    "\n",
    "    C=np.zeros((nA,mB))\n",
    "    \n",
    "    for i in range(0,nA):\n",
    "        for j in range(0,mB):\n",
    "            sum=0\n",
    "            for k in range(0,mA):\n",
    "                sum+=A[i][k]*B[k][j]\n",
    "            C[i][j]=sum\n",
    "                \n",
    "    return C\n",
    "            \n",
    "    \n",
    "def mtrace(A):\n",
    "    n=A.shape[0]\n",
    "    sum=0\n",
    "    for i in range(0,n):\n",
    "        sum+=A[i][i]\n",
    "    return sum\n",
    "    \n",
    "    \n",
    "#Creando polinomio característico \n",
    "def eigenvalue(A):\n",
    "    AA=mprod(A,A)\n",
    "    AAA=mprod(A,AA)\n",
    "    \n",
    "    a0=1/6*((mtrace(A)**3)+2*mtrace(AAA)-3*mtrace(A)*mtrace(AA))\n",
    "    a1=-0.5*(mtrace(A)**2-mtrace(AA))\n",
    "    a2=mtrace(A)\n",
    "    a3=-1\n",
    "    \n",
    "    #Encontrando autovalores \n",
    "    eigen_val_1= np.roots([a3,a2,a1,a0])[0]\n",
    "    eigen_val_2= np.roots([a3,a2,a1,a0])[1]\n",
    "    eigen_val_3= np.roots([a3,a2,a1,a0])[2]\n",
    "    \n",
    "    eigenvalues=[eigen_val_1.real,eigen_val_2.real,eigen_val_3.real]\n",
    "            \n",
    "    return eigenvalues\n"
   ]
  },
  {
   "cell_type": "code",
   "execution_count": 246,
   "metadata": {
    "collapsed": false
   },
   "outputs": [
    {
     "name": "stdout",
     "output_type": "stream",
     "text": [
      "[2.0, 0.9999999999999997, 0.9999999999999997]\n"
     ]
    }
   ],
   "source": [
    "print(eigenvalue(A))\n"
   ]
  },
  {
   "cell_type": "code",
   "execution_count": 247,
   "metadata": {
    "collapsed": false
   },
   "outputs": [],
   "source": [
    "def row_pivote(A,fil,col):\n",
    "    max_value=max(A[fil:,col])\n",
    "    min_value=min(A[fil:,col])\n",
    "    if(abs(max_value)>abs(min_value)):\n",
    "        piv=max_value\n",
    "    else:\n",
    "        piv=min_value\n",
    "    for i in range(0,A.shape[0]):\n",
    "        if A[i][col]==piv:\n",
    "            row_pivote=i\n",
    "            break\n",
    "    \n",
    "    return row_pivote"
   ]
  },
  {
   "cell_type": "code",
   "execution_count": 248,
   "metadata": {
    "collapsed": false
   },
   "outputs": [],
   "source": [
    "def GaussSolver(A,B):\n",
    "    #Dimensiones de la matriz de coeficientes\n",
    "    n=A.shape[0]\n",
    "    m=A.shape[1]\n",
    "    \n",
    "    #Creando matriz aumentada\n",
    "    AB=np.zeros((n,m+1))\n",
    "    AB[:,0:m]=A\n",
    "    for i in range(0,len(B)):\n",
    "        AB[i][m]=B[i]\n",
    "       \n",
    "    #Inicia eliminación Gaussiana\n",
    "    i=0 #Fila inicial\n",
    "    j=0 #Columna inicial\n",
    "    s=0 #Número de intercambio de filas (swap)\n",
    "    #Recorriendo columnas\n",
    "    for h in range(j,m-1): #Notar que no se trabaja sobre última columna de A\n",
    "        fila_pivote=row_pivote(AB,i,h)  \n",
    "        pivote=AB[fila_pivote,h]\n",
    "        if(fila_pivote!=i):\n",
    "            #Intercambiando filas\n",
    "            AB[[i,fila_pivote]]=AB[[fila_pivote,i]]\n",
    "            s+=1\n",
    "            #Luego de esto, la fila pivote está en la posición i-ésima\n",
    "        for k in range(i+1,n):\n",
    "            x=-AB[k][h]/pivote\n",
    "            AB[k]=AB[k]+AB[i]*x\n",
    "        i=i+1\n",
    "        j=j+1\n",
    "        \n",
    "    \"\"\"\n",
    "    #Cálculo del determinante\n",
    "    prod=1.0\n",
    "    for i in range(0,m):\n",
    "        prod*=AB[i][i]\n",
    "    det=(1.0)**s*prod \n",
    "    \n",
    "    #Inicia sustitución hacia atrás \n",
    "    x_sol=np.zeros(n)\n",
    "    for i in range(n-1,-1,-1):\n",
    "        if(i==n-1):\n",
    "            x_sol[i]=AB[i][m]/AB[i][i]\n",
    "        else:\n",
    "            sum=0\n",
    "            for j in range(i+1,m):\n",
    "                sum+=AB[i][j]*x_sol[j]\n",
    "            x_sol[i]=(AB[i][m]-sum)/AB[i][i]\n",
    "                            \n",
    "    #return x_sol\n",
    "    \"\"\"\n",
    "    return AB"
   ]
  },
  {
   "cell_type": "code",
   "execution_count": 249,
   "metadata": {
    "collapsed": false
   },
   "outputs": [],
   "source": [
    "#print(GaussSolver(A,B))\n",
    "\n",
    "#print(row_pivote(AA,1))"
   ]
  },
  {
   "cell_type": "code",
   "execution_count": 250,
   "metadata": {
    "collapsed": false
   },
   "outputs": [],
   "source": [
    "def eigenvector(A,eigenvalue):\n",
    "    #Creando matriz (A-eigenvalue*1)*x=0\n",
    "    matrix=A-eigenvalue*np.identity(3)\n",
    "    x=np.array([0,0,0])\n",
    "    print(GaussSolver(matrix,x))\n",
    "    \n",
    "    \n",
    "    \n",
    "    return type(matrix)"
   ]
  },
  {
   "cell_type": "code",
   "execution_count": 252,
   "metadata": {
    "collapsed": false
   },
   "outputs": [
    {
     "name": "stdout",
     "output_type": "stream",
     "text": [
      "[[-2.  1.  0.  0.]\n",
      " [ 0. -4.  2.  0.]\n",
      " [ 0.  0.  0.  0.]]\n",
      "<class 'numpy.ndarray'>\n"
     ]
    }
   ],
   "source": [
    "print(eigenvector(A,2))"
   ]
  },
  {
   "cell_type": "code",
   "execution_count": null,
   "metadata": {
    "collapsed": true
   },
   "outputs": [],
   "source": []
  },
  {
   "cell_type": "code",
   "execution_count": null,
   "metadata": {
    "collapsed": true
   },
   "outputs": [],
   "source": []
  }
 ],
 "metadata": {
  "kernelspec": {
   "display_name": "Python 3",
   "language": "python",
   "name": "python3"
  },
  "language_info": {
   "codemirror_mode": {
    "name": "ipython",
    "version": 3
   },
   "file_extension": ".py",
   "mimetype": "text/x-python",
   "name": "python",
   "nbconvert_exporter": "python",
   "pygments_lexer": "ipython3",
   "version": "3.6.0"
  }
 },
 "nbformat": 4,
 "nbformat_minor": 2
}
