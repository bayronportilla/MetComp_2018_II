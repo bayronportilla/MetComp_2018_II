{
 "cells": [
  {
   "cell_type": "code",
   "execution_count": 643,
   "metadata": {
    "collapsed": true
   },
   "outputs": [],
   "source": [
    "#Importando librerías\n",
    "import numpy as np"
   ]
  },
  {
   "cell_type": "code",
   "execution_count": 705,
   "metadata": {
    "collapsed": false
   },
   "outputs": [],
   "source": [
    "#Matriz de coeficientes\n",
    "#A=[[4,-9,2],[2,-4,6],[1,-1,3]]\n",
    "#A=[[10,1,-5],[-20,3,20],[5,3,5]]\n",
    "#A=[[1,1,1],[2,3,-4],[1,-1,1]]\n",
    "#A=[[1,2,-3],[2,-1,1],[4,-1,1]]\n",
    "#A=[[80,15,35,60],[28,72,57,25],[20,20,12,20],[50,10,20,60]]\n",
    "#A=[[2,1,3],[1,0,4],[3,4,3]]\n",
    "A=[[1,3,12],[0,4,6],[2,5,6]]\n",
    "\n",
    "A=np.array(A)\n",
    "\n",
    "#Vector de términos independientes\n",
    "#B=[5,3,4]\n",
    "#B=[1,2,6]\n",
    "#B=[1,9,-1]\n",
    "#B=[9,0,4]\n",
    "#B=[230,180,80,160]\n",
    "#B=[0,1,3]\n",
    "B=[0.1,3,4]\n",
    "B=np.array(B)\n",
    "\n",
    "\n",
    "\n"
   ]
  },
  {
   "cell_type": "code",
   "execution_count": 706,
   "metadata": {
    "collapsed": false
   },
   "outputs": [],
   "source": [
    "def row_pivote(A,fil,col):\n",
    "    max_value=max(A[fil:,col])\n",
    "    min_value=min(A[fil:,col])\n",
    "    if(abs(max_value)>abs(min_value)):\n",
    "        piv=max_value\n",
    "    else:\n",
    "        piv=min_value\n",
    "    for i in range(0,A.shape[0]):\n",
    "        if A[i][col]==piv:\n",
    "            row_pivote=i\n",
    "            break\n",
    "    \n",
    "    return row_pivote"
   ]
  },
  {
   "cell_type": "code",
   "execution_count": 707,
   "metadata": {
    "collapsed": false
   },
   "outputs": [],
   "source": [
    "def GaussSolver(A,B):\n",
    "    #Dimensiones de la matriz de coeficientes\n",
    "    n=A.shape[0]\n",
    "    m=A.shape[1]\n",
    "    \n",
    "    #Creando matriz aumentada\n",
    "    AB=np.zeros((n,m+1))\n",
    "    AB[:,0:m]=A\n",
    "    for i in range(0,len(B)):\n",
    "        AB[i][m]=B[i]\n",
    "       \n",
    "    #Inicia eliminación Gaussiana\n",
    "    i=0 #Fila inicial\n",
    "    j=0 #Columna inicial\n",
    "    \n",
    "    #Recorriendo columnas\n",
    "    for h in range(j,m-1): #Notar que no se trabaja sobre última columna de A\n",
    "        fila_pivote=row_pivote(AB,i,h)  \n",
    "        pivote=AB[fila_pivote,h]\n",
    "        if(fila_pivote!=i):\n",
    "            #Intercambiando filas\n",
    "            AB[[i,fila_pivote]]=AB[[fila_pivote,i]]\n",
    "            #Luego de esto, la fila pivote está en la posición i-ésima\n",
    "        for k in range(i+1,n):\n",
    "            x=-AB[k][h]/pivote\n",
    "            AB[k]=AB[k]+AB[i]*x\n",
    "        i=i+1\n",
    "        j=j+1\n",
    "        \n",
    "    #Inicia sustitución hacia atrás \n",
    "    x_sol=np.zeros(n)\n",
    "    for i in range(n-1,-1,-1):\n",
    "        if(i==n-1):\n",
    "            x_sol[i]=AB[i][m]/AB[i][i]\n",
    "        else:\n",
    "            sum=0\n",
    "            for j in range(i+1,m):\n",
    "                sum+=AB[i][j]*x_sol[j]\n",
    "            x_sol[i]=(AB[i][m]-sum)/AB[i][i]\n",
    "                            \n",
    "    return x_sol\n",
    "\n",
    "\n",
    "\n",
    "\n",
    "    \n"
   ]
  },
  {
   "cell_type": "code",
   "execution_count": 708,
   "metadata": {
    "collapsed": false
   },
   "outputs": [
    {
     "name": "stdout",
     "output_type": "stream",
     "text": [
      "[-0.08181818  1.16363636 -0.27575758]\n"
     ]
    }
   ],
   "source": [
    "print(GaussSolver(A,B))\n",
    "AA=[[-20,3,20,2],[0,2.5,5,2],[0,3.75,10,6.5]]\n",
    "AA=np.array(AA)\n",
    "#print(row_pivote(AA,1))"
   ]
  },
  {
   "cell_type": "code",
   "execution_count": 648,
   "metadata": {
    "collapsed": false
   },
   "outputs": [
    {
     "name": "stdout",
     "output_type": "stream",
     "text": [
      "[[1 2]\n",
      " [3 4]]\n",
      "[[3 4]\n",
      " [1 2]]\n"
     ]
    }
   ],
   "source": [
    "R=np.array([[1,2],[3,4]])\n",
    "print(R)\n",
    "R[[0,1]]=R[[1,0]]\n",
    "print(R)"
   ]
  },
  {
   "cell_type": "code",
   "execution_count": 652,
   "metadata": {
    "collapsed": false
   },
   "outputs": [
    {
     "name": "stdout",
     "output_type": "stream",
     "text": [
      "3\n"
     ]
    }
   ],
   "source": [
    "for i in range(3,4):\n",
    "    print(i)"
   ]
  },
  {
   "cell_type": "code",
   "execution_count": null,
   "metadata": {
    "collapsed": true
   },
   "outputs": [],
   "source": []
  },
  {
   "cell_type": "code",
   "execution_count": null,
   "metadata": {
    "collapsed": true
   },
   "outputs": [],
   "source": []
  }
 ],
 "metadata": {
  "kernelspec": {
   "display_name": "Python 3",
   "language": "python",
   "name": "python3"
  },
  "language_info": {
   "codemirror_mode": {
    "name": "ipython",
    "version": 3
   },
   "file_extension": ".py",
   "mimetype": "text/x-python",
   "name": "python",
   "nbconvert_exporter": "python",
   "pygments_lexer": "ipython3",
   "version": "3.6.0"
  }
 },
 "nbformat": 4,
 "nbformat_minor": 2
}
