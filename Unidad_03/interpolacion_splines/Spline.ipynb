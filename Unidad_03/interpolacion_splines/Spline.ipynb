{
 "cells": [
  {
   "cell_type": "code",
   "execution_count": 217,
   "metadata": {
    "collapsed": true
   },
   "outputs": [],
   "source": [
    "#Importamos librerias\n",
    "import numpy as np\n",
    "import matplotlib.pyplot as plt"
   ]
  },
  {
   "cell_type": "code",
   "execution_count": 218,
   "metadata": {
    "collapsed": false
   },
   "outputs": [],
   "source": [
    "#Declaramos listas de puntos experimentales. Deben estar ordenados!\n",
    "#Pato\n",
    "x_list = [0.9,1.3,1.9,2.1,2.6,3.0,3.9,4.4,4.7,5.0,6.0,7.0,8.0,9.2,10.5,11.3,11.6,12.0,12.6,13.0,13.3]\n",
    "y_list = [1.3,1.5,1.85,2.1,2.6,2.7,2.4,2.15,2.05,2.1,2.25,2.3,2.25,1.95,1.4,0.9,0.7,0.6,0.5,0.4,0.25]\n",
    "\n",
    "#perro\n",
    "#x_list=[1,2,5,6,7,8,10,12,17,20,23,24,25,27,27.7,28,29,30]\n",
    "#y_list=[3.0,3.7,3.9,4.2,5.7,6.6,7.1,6.7,4.5,7.0,6.1,5.6,5.8,5.2,4.1,4.3,4.1,3.0]\n",
    "\n",
    "#x_list=[1,2,40.3]\n",
    "#y_list=[0.1,2,3.3]"
   ]
  },
  {
   "cell_type": "code",
   "execution_count": 219,
   "metadata": {
    "collapsed": false
   },
   "outputs": [],
   "source": [
    "def TriDiagSolver(x_list,y_list):\n",
    "    #Número de subintervalos\n",
    "    n=len(x_list)-1 \n",
    "\n",
    "    #Vector x_j, que almacenará los valores experimentales de x\n",
    "    x = np.zeros(n+1)\n",
    "\n",
    "    #Vectores de las constantes a_j, b_j, c_j, d_j\n",
    "    a = np.zeros(n+1)\n",
    "    b = np.zeros(n+1)\n",
    "    c = np.zeros(n+1)\n",
    "    d = np.zeros(n+1)\n",
    "\n",
    "    #Los siguientes vectores se requieren para la solución del sistema tridiagonal\n",
    "    l  = np.zeros(n+1)\n",
    "    z  = np.zeros(n+1)\n",
    "    mu = np.zeros(n+1)\n",
    "    al = np.zeros(n+1)\n",
    "\n",
    "    #Las n diferencias: x_j+1 - x_j se almacenan en el siguiente vector\n",
    "    h = np.zeros(n)\n",
    "\n",
    "    #Almacenamos el valor de las constantes a_j\n",
    "    for i in range(0,n+1):\n",
    "        a[i] = y_list[i]\n",
    "\n",
    "    #Step 1, ver algoritmo 3.4 de Burden and Faires\n",
    "    for i in range(0,n):\n",
    "        h[i]=x_list[i+1]-x_list[i]\n",
    "\n",
    "    #Step 2, ver algoritmo 3.4 de Burden and Faires\n",
    "    #El vector al almacena las entradas del término a la derecha de la igualdad en la ec. matricial\n",
    "    for i in range(1,n):\n",
    "        al[i] = 3/h[i] * (a[i+1]-a[i]) - 3/h[i-1] * (a[i]-a[i-1])\n",
    "    \n",
    "    #Step 3, ver algoritmo 3.4 de Burden and Faires \n",
    "    l[0]  = 1\n",
    "    mu[0] = 0\n",
    "    z[0]  = 0\n",
    "\n",
    "    #Step 4, ver algoritmo 3.4 de Burden and Faires \n",
    "    for i in range(1,n):\n",
    "        l[i]  = 2*(x_list[i+1]-x_list[i-1]) - h[i-1]*mu[i-1]\n",
    "        mu[i] = h[i]/l[i]\n",
    "        z[i]  = (al[i]-h[i-1]*z[i-1])/l[i]\n",
    "\n",
    "    #Step 5, ver algoritmo 3.4 de Burden and Faires \n",
    "    #Los extremos deben llenarse a mano\n",
    "    l[n] = 1\n",
    "    z[n] = 0\n",
    "    c[n] = 0\n",
    "\n",
    "    #Step 6, ver algoritmo 3.4 de Burden and Faires \n",
    "    for j in np.arange(n-1,-1,-1):\n",
    "        c[j] = z[j]-mu[j]*c[j+1]\n",
    "        b[j] = (a[j+1]-a[j])/h[j] - h[j]*(c[j+1]+2*c[j])/3\n",
    "        d[j] = (c[j+1]-c[j])/(3*h[j])\n",
    "    \n",
    "    #El retorno de esta función es la solución al sistema tridiagonal, es decir el vector c\n",
    "    #y los vectores a,b y d necesarios para construir el Spline.\n",
    "    return [a,b,c,d] "
   ]
  },
  {
   "cell_type": "code",
   "execution_count": 220,
   "metadata": {
    "collapsed": false
   },
   "outputs": [],
   "source": [
    "def CubicSpline(x_list,y_list,x):\n",
    "    #Desempaquetamos el retorno de la función TriDiagSolver \n",
    "    a=TriDiagSolver(x_list,y_list)[0]\n",
    "    b=TriDiagSolver(x_list,y_list)[1]\n",
    "    c=TriDiagSolver(x_list,y_list)[2]\n",
    "    d=TriDiagSolver(x_list,y_list)[3]\n",
    "    \n",
    "    #Procedemos a hacer la interpolación\n",
    "    n=len(x_list)-1\n",
    "    \n",
    "    for j in range(0,n): #Este cíclo se hace sobre cada subintervalo\n",
    "        if x_list[j]<=x<x_list[j+1]:\n",
    "            s = a[j]+b[j]*(x-x_list[j]) + c[j]*(x-x_list[j])**2 + d[j]*(x-x_list[j])**3\n",
    "        elif x==x_list[n]:      \n",
    "            s = a[n]+b[n]*(x-x_list[n]) + c[n]*(x-x_list[n])**2 + d[n]*(x-x_list[n])**3\n",
    "    \n",
    "    return s\n"
   ]
  },
  {
   "cell_type": "code",
   "execution_count": 221,
   "metadata": {
    "collapsed": false
   },
   "outputs": [
    {
     "data": {
      "image/png": "[encoded data removed]",
      "text/plain": [
       "<Figure size 576x576 with 1 Axes>"
      ]
     },
     "metadata": {},
     "output_type": "display_data"
    }
   ],
   "source": [
    "#Prueba\n",
    "x_interpolado=np.linspace(min(x_list),max(x_list),100)\n",
    "y_interpolado=[]\n",
    "\n",
    "#Generamos los puntos interpolados\n",
    "for i in range (0,len(x_interpolado)):\n",
    "    y_interpolado.append(CubicSpline(x_list,y_list,x_interpolado[i]))\n",
    "    \n",
    "\n",
    "#Graficación\n",
    "fig=plt.figure(figsize=(8,8))\n",
    "ax=plt.axes()\n",
    "ax.plot(x_list,y_list,'*')\n",
    "ax.plot(x_interpolado,y_interpolado,'-')\n",
    "ax.set_aspect('equal')\n"
   ]
  },
  {
   "cell_type": "markdown",
   "metadata": {},
   "source": [
    "# Aplicación"
   ]
  },
  {
   "cell_type": "markdown",
   "metadata": {},
   "source": [
    "Supongamos que queremos calcular la siguiente integral:\n",
    "\n",
    "$$\\int_{-0.1}^{1.2} \\sin x \\sqrt{1+x} dx \\approx 0.842927$$ "
   ]
  },
  {
   "cell_type": "code",
   "execution_count": 222,
   "metadata": {
    "collapsed": false
   },
   "outputs": [
    {
     "name": "stdout",
     "output_type": "stream",
     "text": [
      "a = [-0.09471029  0.71422251  1.38243737]\n",
      "b = [1.1669063  1.13304229 0.        ]\n",
      "c = [ 0.         -0.04837715  0.        ]\n",
      "d = [-0.02303674  0.02687619  0.        ]\n"
     ]
    },
    {
     "data": {
      "image/png": "[encoded data removed]",
      "text/plain": [
       "<Figure size 432x288 with 1 Axes>"
      ]
     },
     "metadata": {},
     "output_type": "display_data"
    }
   ],
   "source": [
    "def F(x):\n",
    "    f=np.sin(x)*(1+x)**0.5\n",
    "    return f\n",
    "\n",
    "x_list=[-0.1,0.6,1.2]\n",
    "y_list=[F(x_list[0]),F(x_list[1]),F(x_list[2])]\n",
    "\n",
    "x_continuo=np.linspace(min(x_list),max(x_list),100)\n",
    "y_continuo=F(x_continuo)\n",
    "\n",
    "x_interpolado=np.linspace(min(x_list),max(x_list),100)\n",
    "y_interpolado=[]\n",
    "\n",
    "for i in range(0,len(x_interpolado)):\n",
    "    y_interpolado.append(CubicSpline(x_list,y_list,x_interpolado[i]))\n",
    "    \n",
    "fig=plt.figure()\n",
    "ax=plt.axes()\n",
    "ax.plot(x_continuo,y_continuo,label='funcion continua')\n",
    "ax.plot(x_list,y_list,'*',label='puntos experimentales')\n",
    "ax.plot(x_interpolado,y_interpolado,label='funcion interpolada')\n",
    "ax.set_xlabel('x')\n",
    "ax.set_ylabel('f(x)')\n",
    "ax.legend()\n",
    "\n",
    "print('a =',TriDiagSolver(x_list,y_list)[0])\n",
    "print('b =',TriDiagSolver(x_list,y_list)[1])\n",
    "print('c =',TriDiagSolver(x_list,y_list)[2])\n",
    "print('d =',TriDiagSolver(x_list,y_list)[3])"
   ]
  },
  {
   "cell_type": "markdown",
   "metadata": {},
   "source": [
    "De acuerdo con lo anterior, el spline cúbico que interpola la función tiene la forma:\n",
    "\n",
    "\n",
    "\n",
    "$$\\begin{eqnarray}\n",
    "S_0 &=& -0.09471029 + 1.1669063(x+0.1) - 0.02303674(x+0.1)^3 \\, \\mathrm{sii} \\, -0.1\\leq x \\leq0.6 \\\\\n",
    "S_1 &=& 0.71422251 + 1.13304229(x-0.6) -0.04837715(x-0.6)^2 + 0.02687619(x-0.6)^3 \\, \\mathrm{sii} \\, 0.6\\leq x < 1.2 \\\\ \n",
    "S_2 &=& 1.38243737 \\, \\mathrm{sii}\\, x = 1.2\n",
    "\\end{eqnarray}$$\n",
    "\n",
    "Y por tanto \n",
    "\n",
    "$$\\int_{-0.1}^{1.2} \\sin x \\sqrt{1+x} dx \\approx \\int_{-0.1}^{0.6} S_0 dx  + \\int_{0.6}^{1.2} S_1 dx = 0.848081$$\n",
    "\n"
   ]
  },
  {
   "cell_type": "code",
   "execution_count": null,
   "metadata": {
    "collapsed": false
   },
   "outputs": [],
   "source": []
  },
  {
   "cell_type": "code",
   "execution_count": null,
   "metadata": {
    "collapsed": true
   },
   "outputs": [],
   "source": []
  }
 ],
 "metadata": {
  "kernelspec": {
   "display_name": "Python 3",
   "language": "python",
   "name": "python3"
  },
  "language_info": {
   "codemirror_mode": {
    "name": "ipython",
    "version": 3
   },
   "file_extension": ".py",
   "mimetype": "text/x-python",
   "name": "python",
   "nbconvert_exporter": "python",
   "pygments_lexer": "ipython3",
   "version": "3.6.0"
  }
 },
 "nbformat": 4,
 "nbformat_minor": 2
}
