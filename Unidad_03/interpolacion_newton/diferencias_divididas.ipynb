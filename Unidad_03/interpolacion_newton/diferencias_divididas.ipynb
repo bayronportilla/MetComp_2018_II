{
 "cells": [
  {
   "cell_type": "code",
   "execution_count": 57,
   "metadata": {
    "collapsed": true
   },
   "outputs": [],
   "source": [
    "import numpy as np\n",
    "import matplotlib.pyplot as plt"
   ]
  },
  {
   "cell_type": "code",
   "execution_count": 41,
   "metadata": {
    "collapsed": true
   },
   "outputs": [],
   "source": [
    "# Datos experimentales\n",
    "x_list=[1.0,1.3,1.6,1.9,2.2]\n",
    "y_list=[0.7651977,0.6200860,0.4554022,0.2818186,0.1103623]"
   ]
  },
  {
   "cell_type": "code",
   "execution_count": 44,
   "metadata": {
    "collapsed": true
   },
   "outputs": [],
   "source": [
    "def DiferenciaDividida(x_list,y_list):\n",
    "    n=len(x_list)\n",
    "    # Creando matriz de ceros\n",
    "    a=np.zeros((n,n))\n",
    "    # Llenando elementos de la diagonal\n",
    "    for i in range(0,n):\n",
    "        for j in range(0,n):\n",
    "            if i==j:\n",
    "                a[i][j] = y_list[i]\n",
    "    for k in range(1,n):\n",
    "        for i in range(0,n-1): # Limite superior evita la diagnoal\n",
    "            for j in range(1,n): # Limite inferior evita la diagnoal\n",
    "                if j!=i and j==i+k:\n",
    "                    a[i][j]=(a[i+1][j]-a[i][j-1])/(x_list[j]-x_list[i])\n",
    "    return a"
   ]
  },
  {
   "cell_type": "code",
   "execution_count": 47,
   "metadata": {
    "collapsed": false
   },
   "outputs": [],
   "source": [
    "def PolyNewton(x_list,y_list,x):\n",
    "    n=len(x_list) # Número de datos experimentales\n",
    "    sum=0\n",
    "    for i in range(1,n):\n",
    "        prod=1\n",
    "        for j in range(0,i):\n",
    "            prod=prod*(x-x_list[j])\n",
    "        sum=sum+prod*a[0][i]\n",
    "    P=a[0][0]+sum\n",
    "    return P"
   ]
  },
  {
   "cell_type": "code",
   "execution_count": 55,
   "metadata": {
    "collapsed": false
   },
   "outputs": [],
   "source": [
    "x_interpolado=np.linspace(min(x_list),max(x_list),5000)\n",
    "y_interpolado=PolyNewton(x_list,y_list,x_interpolado)"
   ]
  },
  {
   "cell_type": "code",
   "execution_count": 63,
   "metadata": {
    "collapsed": false
   },
   "outputs": [
    {
     "data": {
      "image/png": "[encoded data removed]",
      "text/plain": [
       "<Figure size 432x288 with 1 Axes>"
      ]
     },
     "metadata": {},
     "output_type": "display_data"
    }
   ],
   "source": [
    "fig=plt.figure()\n",
    "ax=plt.axes()\n",
    "ax.plot(x_list,y_list,'.')\n",
    "ax.plot(x_interpolado,y_interpolado,'-')\n",
    "plt.show()"
   ]
  },
  {
   "cell_type": "code",
   "execution_count": null,
   "metadata": {
    "collapsed": true
   },
   "outputs": [],
   "source": []
  }
 ],
 "metadata": {
  "kernelspec": {
   "display_name": "Python 3",
   "language": "python",
   "name": "python3"
  },
  "language_info": {
   "codemirror_mode": {
    "name": "ipython",
    "version": 3
   },
   "file_extension": ".py",
   "mimetype": "text/x-python",
   "name": "python",
   "nbconvert_exporter": "python",
   "pygments_lexer": "ipython3",
   "version": "3.6.0"
  }
 },
 "nbformat": 4,
 "nbformat_minor": 2
}
