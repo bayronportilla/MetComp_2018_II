{
 "cells": [
  {
   "cell_type": "code",
   "execution_count": 19,
   "metadata": {
    "collapsed": true
   },
   "outputs": [],
   "source": [
    "import numpy as np\n",
    "import matplotlib.pyplot as plt"
   ]
  },
  {
   "cell_type": "code",
   "execution_count": 36,
   "metadata": {
    "collapsed": false
   },
   "outputs": [],
   "source": [
    "#x_list=[1.0,1.3,1.6,1.9,2.2]\n",
    "#y_list=[0.7651977,0.6200860,0.4554022,0.2818186,0.1103623]\n",
    "\n",
    "x_list=[0,2,4,6,7]\n",
    "y_list=[0,-1,5,4,3]\n"
   ]
  },
  {
   "cell_type": "code",
   "execution_count": 37,
   "metadata": {
    "collapsed": false
   },
   "outputs": [
    {
     "data": {
      "text/plain": [
       "[<matplotlib.lines.Line2D at 0x10672dc18>]"
      ]
     },
     "execution_count": 37,
     "metadata": {},
     "output_type": "execute_result"
    },
    {
     "data": {
      "image/png": "[encoded data removed]",
      "text/plain": [
       "<Figure size 432x288 with 1 Axes>"
      ]
     },
     "metadata": {},
     "output_type": "display_data"
    }
   ],
   "source": [
    "def PolyNewton(x_list,y_list,x):\n",
    "    F=np.zeros((len(x_list),len(x_list)))\n",
    "    for k in range(0,len(x_list)):\n",
    "        F[k][0] = y_list[k] # llenamos la primera columna, el primer indice de F indica la fila\n",
    "    for i in range(1,len(x_list)):\n",
    "        for j in range(1,i+1): # Ojo aqui con el i+1 !!!\n",
    "            F[i][j] = ( F[i][j-1] - F[i-1][j-1] ) / (x_list[i] - x_list[i-j])\n",
    "    sum=0\n",
    "    for i in range(1,len(x_list)):\n",
    "        prod=1\n",
    "        for j in range(0,i):\n",
    "            prod=prod*(x-x_list[j])\n",
    "        sum=sum+F[i][i]*prod\n",
    "    P = F[0][0]+sum\n",
    "    return P\n",
    "    #return F\n",
    "    \n",
    "x_array=np.linspace(min(x_list),max(x_list),100)\n",
    "y_array=[]\n",
    "\n",
    "for i in range(0,len(x_array)):\n",
    "    y_array.append(PolyNewton(x_list,y_list,x_array[i]))\n",
    "\n",
    "    \n",
    "fig=plt.figure()\n",
    "ax=plt.axes()\n",
    "ax.plot(x_list,y_list,'*')\n",
    "ax.plot(x_array,y_array)"
   ]
  },
  {
   "cell_type": "code",
   "execution_count": null,
   "metadata": {
    "collapsed": true
   },
   "outputs": [],
   "source": []
  }
 ],
 "metadata": {
  "kernelspec": {
   "display_name": "Python 3",
   "language": "python",
   "name": "python3"
  },
  "language_info": {
   "codemirror_mode": {
    "name": "ipython",
    "version": 3
   },
   "file_extension": ".py",
   "mimetype": "text/x-python",
   "name": "python",
   "nbconvert_exporter": "python",
   "pygments_lexer": "ipython3",
   "version": "3.6.0"
  }
 },
 "nbformat": 4,
 "nbformat_minor": 2
}
