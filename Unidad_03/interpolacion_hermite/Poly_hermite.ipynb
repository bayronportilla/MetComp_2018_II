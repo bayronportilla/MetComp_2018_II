{
 "cells": [
  {
   "cell_type": "code",
   "execution_count": 44,
   "metadata": {
    "collapsed": true
   },
   "outputs": [],
   "source": [
    "import numpy as np\n",
    "import matplotlib.pyplot as plt"
   ]
  },
  {
   "cell_type": "code",
   "execution_count": 55,
   "metadata": {
    "collapsed": true
   },
   "outputs": [],
   "source": [
    "x_list = [1.3,1.6,1.9]\n",
    "y_list = [0.6200860,0.4554022,0.2818186]\n",
    "dydx_list = [-0.5220232,-0.5698959,-0.5811571]"
   ]
  },
  {
   "cell_type": "code",
   "execution_count": 56,
   "metadata": {
    "collapsed": false
   },
   "outputs": [
    {
     "data": {
      "text/plain": [
       "[<matplotlib.lines.Line2D at 0x106a79cf8>]"
      ]
     },
     "execution_count": 56,
     "metadata": {},
     "output_type": "execute_result"
    },
    {
     "data": {
      "image/png": "[encoded data removed]",
      "text/plain": [
       "<Figure size 432x288 with 1 Axes>"
      ]
     },
     "metadata": {},
     "output_type": "display_data"
    }
   ],
   "source": [
    "\n",
    "Q = np.zeros((2*len(x_list),2*len(x_list)))\n",
    "Z = np.zeros(2*len(x_list))\n",
    "\n",
    "for i in range(0,len(x_list)):\n",
    "    Z[2*i]      = x_list[i]\n",
    "    Z[2*i+1]    = x_list[i]\n",
    "    Q[2*i][0]   = y_list[i]\n",
    "    Q[2*i+1][0] = y_list[i]\n",
    "    Q[2*i+1][1] = dydx_list[i]\n",
    "    if i!=0:\n",
    "        Q[2*i][1] = (Q[2*i][0]-Q[2*i-1][0]) / (Z[2*i]-Z[2*i-1])\n",
    "        \n",
    "for i in range(2,len(Z)):\n",
    "    for j in range(2,i+1):\n",
    "        Q[i][j] = (Q[i][j-1]-Q[i-1][j-1]) / (Z[i]-Z[i-j])\n",
    "\n",
    "\n",
    "\n",
    "def PolyHermite(x):\n",
    "    sum = 0\n",
    "    for i in range(1,len(Z)):\n",
    "        prod = 1.0\n",
    "        for j in range(0,i):\n",
    "            prod = prod*(x-Z[j])\n",
    "        sum=sum+Q[i][i]*prod\n",
    "    H = Q[0][0]+sum \n",
    "    return H\n",
    "            \n",
    "\n",
    "x_array=np.linspace(min(x_list),max(x_list),100)\n",
    "y_array=[]\n",
    "\n",
    "for i in range(0,len(x_array)):\n",
    "    y_array.append(PolyHermite(x_array[i]))\n",
    "    \n",
    "fig=plt.figure()\n",
    "ax=plt.axes()\n",
    "ax.plot(x_list,y_list,'*')\n",
    "ax.plot(x_array,y_array)\n",
    "\n",
    "    "
   ]
  },
  {
   "cell_type": "code",
   "execution_count": null,
   "metadata": {
    "collapsed": true
   },
   "outputs": [],
   "source": []
  },
  {
   "cell_type": "code",
   "execution_count": null,
   "metadata": {
    "collapsed": true
   },
   "outputs": [],
   "source": []
  }
 ],
 "metadata": {
  "kernelspec": {
   "display_name": "Python 3",
   "language": "python",
   "name": "python3"
  },
  "language_info": {
   "codemirror_mode": {
    "name": "ipython",
    "version": 3
   },
   "file_extension": ".py",
   "mimetype": "text/x-python",
   "name": "python",
   "nbconvert_exporter": "python",
   "pygments_lexer": "ipython3",
   "version": "3.6.0"
  }
 },
 "nbformat": 4,
 "nbformat_minor": 2
}
