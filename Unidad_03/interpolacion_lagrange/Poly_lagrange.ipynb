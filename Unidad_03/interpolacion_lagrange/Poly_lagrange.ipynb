{
 "cells": [
  {
   "cell_type": "code",
   "execution_count": 1,
   "metadata": {
    "collapsed": true
   },
   "outputs": [],
   "source": [
    "import numpy as np\n",
    "import matplotlib.pyplot as plt"
   ]
  },
  {
   "cell_type": "code",
   "execution_count": 2,
   "metadata": {
    "collapsed": false
   },
   "outputs": [],
   "source": [
    "datos=np.loadtxt(\"radius.dat\")\n",
    "x_list=[]\n",
    "y_list=[]\n",
    "for i in range(0,15):\n",
    "    x_list.append(datos[i][0])\n",
    "    y_list.append(datos[i][1])\n"
   ]
  },
  {
   "cell_type": "code",
   "execution_count": 6,
   "metadata": {
    "collapsed": false
   },
   "outputs": [
    {
     "name": "stdout",
     "output_type": "stream",
     "text": [
      "2.0\n"
     ]
    }
   ],
   "source": [
    "x_list=[1,2,3]\n",
    "y_list=[1,2,3]\n",
    "\n",
    "\"\"\"\n",
    "fig=plt.figure()\n",
    "ax=plt.axes()\n",
    "ax.plot(x_list,y_list,'*')\n",
    "\"\"\"\n",
    "def PolyLagrange(x_list,y_list,x):\n",
    "    sum=0\n",
    "    for i in range(0,len(x_list)):\n",
    "        prod=1\n",
    "        for j in range(0,len(x_list)):\n",
    "            if(i!=j):\n",
    "                prod=prod*(x-x_list[j])/(x_list[i]-x_list[j])\n",
    "        sum=sum+prod*y_list[i]\n",
    "    return sum\n",
    "        \n",
    "print(PolyLagrange(x_list,y_list,2))"
   ]
  },
  {
   "cell_type": "code",
   "execution_count": 7,
   "metadata": {
    "collapsed": false
   },
   "outputs": [],
   "source": [
    "x_array=np.linspace(min(x_list),max(x_list),100)\n",
    "y_array=[]\n",
    "for i in range(0,len(x_array)):\n",
    "    y_array.append(PolyLagrange(x_list,y_list,x_array[i]))"
   ]
  },
  {
   "cell_type": "code",
   "execution_count": 9,
   "metadata": {
    "collapsed": false
   },
   "outputs": [
    {
     "data": {
      "text/plain": [
       "[<matplotlib.lines.Line2D at 0x106788710>]"
      ]
     },
     "execution_count": 9,
     "metadata": {},
     "output_type": "execute_result"
    },
    {
     "data": {
      "image/png": "[encoded data removed]",
      "text/plain": [
       "<Figure size 432x288 with 1 Axes>"
      ]
     },
     "metadata": {},
     "output_type": "display_data"
    }
   ],
   "source": [
    "fig=plt.figure()\n",
    "ax=plt.axes()\n",
    "ax.plot(x_list,y_list,'*')\n",
    "ax.plot(x_array,y_array,'-')\n",
    "#ax.set_yscale(\"log\")"
   ]
  },
  {
   "cell_type": "code",
   "execution_count": null,
   "metadata": {
    "collapsed": true
   },
   "outputs": [],
   "source": []
  }
 ],
 "metadata": {
  "kernelspec": {
   "display_name": "Python 3",
   "language": "python",
   "name": "python3"
  },
  "language_info": {
   "codemirror_mode": {
    "name": "ipython",
    "version": 3
   },
   "file_extension": ".py",
   "mimetype": "text/x-python",
   "name": "python",
   "nbconvert_exporter": "python",
   "pygments_lexer": "ipython3",
   "version": "3.6.0"
  }
 },
 "nbformat": 4,
 "nbformat_minor": 2
}
